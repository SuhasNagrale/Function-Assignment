{
  "nbformat": 4,
  "nbformat_minor": 0,
  "metadata": {
    "colab": {
      "provenance": []
    },
    "kernelspec": {
      "name": "python3",
      "display_name": "Python 3"
    },
    "language_info": {
      "name": "python"
    }
  },
  "cells": [
    {
      "cell_type": "markdown",
      "source": [
        "#Function Assignment\n",
        "\n"
      ],
      "metadata": {
        "id": "nT7YYNRjbu8A"
      }
    },
    {
      "cell_type": "markdown",
      "source": [
        "#1. What is the difference between a function and a method in Python?\n",
        "- **Function:**\n",
        "\n",
        "- A function in Python is a block of reusable code defined using def or lambda.\n",
        "\n",
        "- It is not tied to an object/class unless explicitly placed inside one.\n",
        "\n",
        "- Can be called independently, just by its name.\n",
        "\n",
        "- **Method**:\n",
        "- A method is essentially a function that belongs to an object (or class).\n",
        "\n",
        "- It is defined inside a class and takes the instance (self) (or class cls for class methods) as its first parameter.\n",
        "\n",
        "- Called on an object or class, which means it operates on data associated with that object/class."
      ],
      "metadata": {
        "id": "720VLQAqb0w0"
      }
    },
    {
      "cell_type": "markdown",
      "source": [
        "# 2. Explain the concept of function arguments and parameters in Python.\n",
        "- * **Parameters**: Variables defined in the function definition that act as placeholders for input values.\n",
        "- * **Arguments**: Actual values passed to the function when it is called, which are assigned to the corresponding parameters.\n"
      ],
      "metadata": {
        "id": "Sa5kTxntfWUM"
      }
    },
    {
      "cell_type": "markdown",
      "source": [
        "#3. What are the different ways to define and call a function in Python?\n",
        "\n"
      ],
      "metadata": {
        "id": "vqAjldv9f4Ht"
      }
    },
    {
      "cell_type": "code",
      "source": [
        "# 1. Default function\n",
        "def greet():\n",
        "    print(\"Hello\")\n",
        "greet()\n"
      ],
      "metadata": {
        "colab": {
          "base_uri": "https://localhost:8080/"
        },
        "id": "zHhlRDNNgEog",
        "outputId": "3a9eb4af-9cbc-428c-832d-81c00b25bab8"
      },
      "execution_count": 1,
      "outputs": [
        {
          "output_type": "stream",
          "name": "stdout",
          "text": [
            "Hello\n"
          ]
        }
      ]
    },
    {
      "cell_type": "code",
      "source": [
        "#2. Function with parameters\n",
        "def add(a, b):\n",
        "    return a + b\n",
        "add(5, 3)\n"
      ],
      "metadata": {
        "colab": {
          "base_uri": "https://localhost:8080/"
        },
        "id": "TvwV2dUHgNLt",
        "outputId": "59571922-6a0b-4b78-e532-6e4c662836ad"
      },
      "execution_count": 2,
      "outputs": [
        {
          "output_type": "execute_result",
          "data": {
            "text/plain": [
              "8"
            ]
          },
          "metadata": {},
          "execution_count": 2
        }
      ]
    },
    {
      "cell_type": "code",
      "source": [
        "# 3. Function with default parameter values\n",
        "def greet(name=\"User\"):\n",
        "    print(\"Hello\", name)\n",
        "greet()\n",
        "greet(\"Alice\")\n"
      ],
      "metadata": {
        "colab": {
          "base_uri": "https://localhost:8080/"
        },
        "id": "IhIRAtLKgVPH",
        "outputId": "f7f69a90-427a-45a0-9dcc-e00dcbc8547b"
      },
      "execution_count": 3,
      "outputs": [
        {
          "output_type": "stream",
          "name": "stdout",
          "text": [
            "Hello User\n",
            "Hello Alice\n"
          ]
        }
      ]
    },
    {
      "cell_type": "code",
      "source": [
        "# 4. Function with keyword arguments\n",
        "def student(name, age):\n",
        "    print(name, age)\n",
        "student(age=20, name=\"Bob\")\n"
      ],
      "metadata": {
        "colab": {
          "base_uri": "https://localhost:8080/"
        },
        "id": "cQINLx6cgbE2",
        "outputId": "89359f8f-adc2-4177-b15d-ff16b9957ca9"
      },
      "execution_count": 4,
      "outputs": [
        {
          "output_type": "stream",
          "name": "stdout",
          "text": [
            "Bob 20\n"
          ]
        }
      ]
    },
    {
      "cell_type": "code",
      "source": [
        "# 5. Function with variable-length arguments (*args, kwargs)\n",
        "def show(*args, **kwargs):\n",
        "    print(args, kwargs)\n",
        "show(1, 2, 3, name=\"Tom\", age=21)\n"
      ],
      "metadata": {
        "colab": {
          "base_uri": "https://localhost:8080/"
        },
        "id": "am9d6cdSghpN",
        "outputId": "8f91aab2-36f3-438c-8dd8-2245b4915d5d"
      },
      "execution_count": 6,
      "outputs": [
        {
          "output_type": "stream",
          "name": "stdout",
          "text": [
            "(1, 2, 3) {'name': 'Tom', 'age': 21}\n"
          ]
        }
      ]
    },
    {
      "cell_type": "code",
      "source": [
        "# 6. Lambda function\n",
        "square = lambda x: x * x\n",
        "square(4)\n"
      ],
      "metadata": {
        "colab": {
          "base_uri": "https://localhost:8080/"
        },
        "id": "g-q2xhP6goaX",
        "outputId": "f875e4c5-fa3c-455f-9a5a-527ab80527c2"
      },
      "execution_count": 5,
      "outputs": [
        {
          "output_type": "execute_result",
          "data": {
            "text/plain": [
              "16"
            ]
          },
          "metadata": {},
          "execution_count": 5
        }
      ]
    },
    {
      "cell_type": "markdown",
      "source": [
        "# 4. What is the purpose of the return statement in a Python function?\n",
        "\n",
        "- The **`return` statement** in Python is used to send a value from a function back to the caller, allowing the function to produce a result that can be stored or used in further operations.\n",
        "\n",
        "\n"
      ],
      "metadata": {
        "id": "VBgx4bx7gxkO"
      }
    },
    {
      "cell_type": "markdown",
      "source": [
        "# 5 . What are iterators in Python and how do they differ from iterables?\n",
        "\n",
        "- * **Iterable**: An object that can return an iterator (e.g., lists, tuples, strings). It implements the `__iter__()` method.\n",
        "- * **Iterator**: An object used to iterate over an iterable, producing one element at a time using `__next__()`.\n",
        "\n",
        "- - **Difference**:\n",
        "\n",
        "- * Iterable → can be looped over but doesn’t keep track of iteration state.\n",
        "- * Iterator → actually performs the iteration and remembers its current position.\n"
      ],
      "metadata": {
        "id": "6XPQTNy7ht0z"
      }
    },
    {
      "cell_type": "markdown",
      "source": [
        "# 6. Explain the concept of generators in Python and how they are defined.\n",
        "\n",
        "- Generators: Special functions in Python that return an iterator, used to generate values one at a time instead of storing them all in memory.\n",
        "\n",
        "- Defined using:\n",
        "\n",
        "- The yield keyword inside a function.\n",
        "\n",
        "- Each call to yield produces the next value in the sequence."
      ],
      "metadata": {
        "id": "YzgXgam2iDO4"
      }
    },
    {
      "cell_type": "code",
      "source": [
        "# Example\n",
        "def count_up_to(n):\n",
        "    i = 1\n",
        "    while i <= n:\n",
        "        yield i\n",
        "        i += 1\n",
        "\n",
        "gen = count_up_to(5)\n",
        "for num in gen:\n",
        "    print(num)\n"
      ],
      "metadata": {
        "colab": {
          "base_uri": "https://localhost:8080/"
        },
        "id": "zd-Txcj7ic9y",
        "outputId": "fd09f779-3de6-4034-ecb7-eda0d627020c"
      },
      "execution_count": 8,
      "outputs": [
        {
          "output_type": "stream",
          "name": "stdout",
          "text": [
            "1\n",
            "2\n",
            "3\n",
            "4\n",
            "5\n"
          ]
        }
      ]
    },
    {
      "cell_type": "markdown",
      "source": [
        "# 7. What are the advantages of using generators over regular functions?\n",
        "\n",
        "- **Advantages of generators over regular functions:**\n",
        "\n",
        "1. **Memory efficient** – Generate values one at a time instead of storing the whole sequence in memory.\n",
        "2. **Lazy evaluation** – Values are produced only when needed.\n",
        "3. **Infinite sequences** – Can represent endless data streams without running out of memory.\n",
        "4. **Improved performance** – Faster for large datasets since they avoid creating large intermediate lists.\n",
        "5. **Readable code** – Simplify implementation of iterators using `yield`.\n"
      ],
      "metadata": {
        "id": "cHOxfD6YiY5w"
      }
    },
    {
      "cell_type": "markdown",
      "source": [
        "# 8. What is a lambda function in Python and when is it typically used?\n",
        "\n",
        "- * **Lambda function**: An anonymous (unnamed) function defined using the `lambda` keyword, written in a single line.\n",
        "* **Syntax**: `lambda arguments: expression`\n",
        "* **Typical use**: When a small, short-term function is needed (e.g., in `map()`, `filter()`, `sorted()`, or as a quick inline function).\n"
      ],
      "metadata": {
        "id": "b1g07HuTiv__"
      }
    },
    {
      "cell_type": "code",
      "source": [
        "# Example\n",
        "square = lambda x: x * x\n",
        "print(square(5))  # Output: 25"
      ],
      "metadata": {
        "colab": {
          "base_uri": "https://localhost:8080/"
        },
        "id": "h7t2MJXAi_o1",
        "outputId": "c69f5ecd-bddb-4dfb-a116-027f91c527d2"
      },
      "execution_count": 10,
      "outputs": [
        {
          "output_type": "stream",
          "name": "stdout",
          "text": [
            "25\n"
          ]
        }
      ]
    },
    {
      "cell_type": "markdown",
      "source": [
        "# 9. Explain the purpose and usage of the map() function in Python.\n",
        "Purpose: The map() function applies a given function to each item of an iterable and returns a map object (iterator).\n",
        "\n",
        "Usage: Used for transforming all elements of an iterable without writing explicit loops.\n",
        "\n",
        "**Syntax**\n",
        "map(function, iterable)\n"
      ],
      "metadata": {
        "id": "-kzgZhyhjKG_"
      }
    },
    {
      "cell_type": "code",
      "source": [
        "numbers = [1, 2, 3, 4]\n",
        "squares = map(lambda x: x**2, numbers)\n",
        "print(list(squares))  # [1, 4, 9, 16]\n"
      ],
      "metadata": {
        "colab": {
          "base_uri": "https://localhost:8080/"
        },
        "id": "wHT5lqGNjaex",
        "outputId": "58eeb202-f1c9-4b88-e791-ae87278f1bc8"
      },
      "execution_count": 11,
      "outputs": [
        {
          "output_type": "stream",
          "name": "stdout",
          "text": [
            "[1, 4, 9, 16]\n"
          ]
        }
      ]
    },
    {
      "cell_type": "markdown",
      "source": [
        "# 10. What is the difference between `map()`, `reduce()`, and `filter()` functions in Python?\n"
      ],
      "metadata": {
        "id": "ulS3dm_ajhz1"
      }
    },
    {
      "cell_type": "code",
      "source": [
        "# **Difference between `map()`, `reduce()`, and `filter()` in Python:**\n",
        "\n",
        "# 1. **`map(function, iterable)`**\n",
        "\n",
        "#    * Applies a function to every element of an iterable.\n",
        "#    * Returns a new iterable with transformed elements.\n",
        "#    * Example:\n",
        "\n",
        "#\n",
        "list(map(lambda x: x*2, [1, 2, 3]))  # [2, 4, 6]\n",
        "\n"
      ],
      "metadata": {
        "colab": {
          "base_uri": "https://localhost:8080/"
        },
        "id": "WPQvFICVjqHv",
        "outputId": "6294cbde-e1a0-4cbf-e33c-22ff0902cd93"
      },
      "execution_count": 24,
      "outputs": [
        {
          "output_type": "execute_result",
          "data": {
            "text/plain": [
              "10"
            ]
          },
          "metadata": {},
          "execution_count": 24
        }
      ]
    },
    {
      "cell_type": "code",
      "source": [
        "list(map(lambda x: x*2, [1, 2, 3]))  # [2, 4, 6]\n"
      ],
      "metadata": {
        "colab": {
          "base_uri": "https://localhost:8080/"
        },
        "id": "X9EKyqLSkpf_",
        "outputId": "7d97a444-67ba-44f9-f421-e572d1fd389b"
      },
      "execution_count": 25,
      "outputs": [
        {
          "output_type": "execute_result",
          "data": {
            "text/plain": [
              "[2, 4, 6]"
            ]
          },
          "metadata": {},
          "execution_count": 25
        }
      ]
    },
    {
      "cell_type": "code",
      "source": [
        "# 2. **`filter(function, iterable)`**\n",
        "\n",
        "#    * Applies a condition function to each element.\n",
        "#    * Returns only the elements that satisfy the condition (True).\n",
        "#    * Example:\n",
        "\n",
        "#\n",
        "list(filter(lambda x: x%2==0, [1, 2, 3, 4]))  # [2, 4]\n",
        "#"
      ],
      "metadata": {
        "colab": {
          "base_uri": "https://localhost:8080/"
        },
        "id": "7azvYSFXl4RD",
        "outputId": "ce00ccc3-aa47-428b-ff4f-0e857ef2cd27"
      },
      "execution_count": 26,
      "outputs": [
        {
          "output_type": "execute_result",
          "data": {
            "text/plain": [
              "[2, 4]"
            ]
          },
          "metadata": {},
          "execution_count": 26
        }
      ]
    },
    {
      "cell_type": "code",
      "source": [
        "# 3. **`reduce(function, iterable)`** (from `functools`)\n",
        "\n",
        "#    * Applies a function cumulatively to elements, reducing them to a single value.\n",
        "#    * Example:\n",
        "\n",
        "\n",
        "from functools import reduce\n",
        "reduce(lambda x, y: x+y, [1, 2, 3, 4])  # 10"
      ],
      "metadata": {
        "colab": {
          "base_uri": "https://localhost:8080/"
        },
        "id": "FnVIxDivl_bC",
        "outputId": "0b479862-62ee-4221-d132-5e834f0c68ea"
      },
      "execution_count": 48,
      "outputs": [
        {
          "output_type": "execute_result",
          "data": {
            "text/plain": [
              "10"
            ]
          },
          "metadata": {},
          "execution_count": 48
        }
      ]
    },
    {
      "cell_type": "markdown",
      "source": [
        "# 11. Using pen & Paper write the internal mechanism for sum operation using  reduce function on this given.\n",
        "\n",
        "The image is attached.![WhatsApp Image 2025-08-26 at 3.16.50 PM.jpeg](data:image/jpeg;base64,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)\n"
      ],
      "metadata": {
        "id": "ITOYO5mjsL-G"
      }
    },
    {
      "cell_type": "code",
      "source": [
        "from functools import reduce\n",
        "reduce(lambda x, y: x + y, [47, 11, 42, 13])\n"
      ],
      "metadata": {
        "colab": {
          "base_uri": "https://localhost:8080/"
        },
        "id": "LIUpPCrktmPt",
        "outputId": "b975fdc4-b7e4-4c9d-bce8-477b3b4bbbf8"
      },
      "execution_count": 49,
      "outputs": [
        {
          "output_type": "execute_result",
          "data": {
            "text/plain": [
              "113"
            ]
          },
          "metadata": {},
          "execution_count": 49
        }
      ]
    },
    {
      "cell_type": "markdown",
      "source": [
        "# Practical Questions:\n",
        "\n"
      ],
      "metadata": {
        "id": "eeYZc1xpftrN"
      }
    },
    {
      "cell_type": "code",
      "source": [
        "# 1. Write a Python function that takes a list of numbers as input and returns the sum of all even numbers in the list.\n",
        "\n",
        "def sum_even_numbers(numbers):\n",
        "    return sum(num for num in numbers if num % 2 == 0)\n",
        "\n",
        "# Example\n",
        "print(sum_even_numbers([1, 2, 3, 4, 5, 6]))  # Output: 12\n"
      ],
      "metadata": {
        "colab": {
          "base_uri": "https://localhost:8080/"
        },
        "id": "1cQX_3Jum1NM",
        "outputId": "8f4dbac1-1d41-442f-f612-d7e0bc5d7503"
      },
      "execution_count": 28,
      "outputs": [
        {
          "output_type": "stream",
          "name": "stdout",
          "text": [
            "12\n"
          ]
        }
      ]
    },
    {
      "cell_type": "code",
      "source": [
        "# 2. Create a Python function that accepts a string and returns the reverse of that string.\n",
        "def reverse_string(text):\n",
        "    return text[::-1]\n",
        "\n",
        "# Example\n",
        "print(reverse_string(\"hello\"))  # Output: \"olleh\"\n"
      ],
      "metadata": {
        "colab": {
          "base_uri": "https://localhost:8080/"
        },
        "id": "3c7xGk0WnIAY",
        "outputId": "ff75aea9-c0f8-4955-e695-1e264365b6fd"
      },
      "execution_count": 29,
      "outputs": [
        {
          "output_type": "stream",
          "name": "stdout",
          "text": [
            "olleh\n"
          ]
        }
      ]
    },
    {
      "cell_type": "code",
      "source": [
        "# 3. Implement a Python function that takes a list of integers and returns a new list containing the squares of each number.\n",
        "def square_list(numbers):\n",
        "    return [num**2 for num in numbers]\n",
        "\n",
        "# Example\n",
        "print(square_list([1, 2, 3, 4]))  # Output: [1, 4, 9, 16]\n"
      ],
      "metadata": {
        "colab": {
          "base_uri": "https://localhost:8080/"
        },
        "id": "cuY1GlW1nSBh",
        "outputId": "ce1c58d6-0403-4a3c-eb95-0716fa6a8aca"
      },
      "execution_count": 30,
      "outputs": [
        {
          "output_type": "stream",
          "name": "stdout",
          "text": [
            "[1, 4, 9, 16]\n"
          ]
        }
      ]
    },
    {
      "cell_type": "code",
      "source": [
        "# 4. Write a Python function that checks if a given number is prime or not from 1 to 200.\n",
        "\n",
        "def is_prime(num):\n",
        "    if num < 2:\n",
        "        return False\n",
        "    for i in range(2, int(num**0.5) + 1):\n",
        "        if num % i == 0:\n",
        "            return False\n",
        "    return True\n",
        "\n",
        "# Check from 1 to 200\n",
        "for n in range(1, 201):\n",
        "    if is_prime(n):\n",
        "        print(n, \"is prime\")\n"
      ],
      "metadata": {
        "colab": {
          "base_uri": "https://localhost:8080/"
        },
        "id": "yv7xSSyWnZgi",
        "outputId": "91e8e626-813d-46a1-b4e5-90e20773fc95"
      },
      "execution_count": 31,
      "outputs": [
        {
          "output_type": "stream",
          "name": "stdout",
          "text": [
            "2 is prime\n",
            "3 is prime\n",
            "5 is prime\n",
            "7 is prime\n",
            "11 is prime\n",
            "13 is prime\n",
            "17 is prime\n",
            "19 is prime\n",
            "23 is prime\n",
            "29 is prime\n",
            "31 is prime\n",
            "37 is prime\n",
            "41 is prime\n",
            "43 is prime\n",
            "47 is prime\n",
            "53 is prime\n",
            "59 is prime\n",
            "61 is prime\n",
            "67 is prime\n",
            "71 is prime\n",
            "73 is prime\n",
            "79 is prime\n",
            "83 is prime\n",
            "89 is prime\n",
            "97 is prime\n",
            "101 is prime\n",
            "103 is prime\n",
            "107 is prime\n",
            "109 is prime\n",
            "113 is prime\n",
            "127 is prime\n",
            "131 is prime\n",
            "137 is prime\n",
            "139 is prime\n",
            "149 is prime\n",
            "151 is prime\n",
            "157 is prime\n",
            "163 is prime\n",
            "167 is prime\n",
            "173 is prime\n",
            "179 is prime\n",
            "181 is prime\n",
            "191 is prime\n",
            "193 is prime\n",
            "197 is prime\n",
            "199 is prime\n"
          ]
        }
      ]
    },
    {
      "cell_type": "code",
      "source": [
        "# 5. Create an iterator class in Python that generates the Fibonacci sequence up to a specified number of terms.\n",
        "\n",
        "class FibonacciIterator:\n",
        "    def __init__(self, n_terms):\n",
        "        self.n_terms = n_terms\n",
        "        self.count = 0\n",
        "        self.a, self.b = 0, 1\n",
        "\n",
        "    def __iter__(self):\n",
        "        return self\n",
        "\n",
        "    def __next__(self):\n",
        "        if self.count < self.n_terms:\n",
        "            value = self.a\n",
        "            self.a, self.b = self.b, self.a + self.b\n",
        "            self.count += 1\n",
        "            return value\n",
        "        else:\n",
        "            raise StopIteration\n",
        "\n",
        "# Example\n",
        "for num in FibonacciIterator(10):\n",
        "    print(num, end=\" \")  # Output: 0 1 1 2 3 5 8 13 21 34\n"
      ],
      "metadata": {
        "colab": {
          "base_uri": "https://localhost:8080/"
        },
        "id": "VqpakvBUnkiw",
        "outputId": "a7826c2c-28cb-47ab-806a-3ef3cdcb42cb"
      },
      "execution_count": 32,
      "outputs": [
        {
          "output_type": "stream",
          "name": "stdout",
          "text": [
            "0 1 1 2 3 5 8 13 21 34 "
          ]
        }
      ]
    },
    {
      "cell_type": "code",
      "source": [
        "# 6. Write a generator function in Python that yields the powers of 2 up to a given exponent.\n",
        "def powers_of_two(n):\n",
        "    for i in range(n + 1):\n",
        "        yield 2 ** i\n",
        "\n",
        "# Example\n",
        "for val in powers_of_two(5):\n",
        "    print(val, end=\" \")  # Output: 1 2 4 8 16 32\n",
        "\n"
      ],
      "metadata": {
        "colab": {
          "base_uri": "https://localhost:8080/"
        },
        "id": "q0-dOlQZnwbf",
        "outputId": "ac020761-e6f7-4933-9231-70b30787ccb0"
      },
      "execution_count": 35,
      "outputs": [
        {
          "output_type": "stream",
          "name": "stdout",
          "text": [
            "1 2 4 8 16 32 "
          ]
        }
      ]
    },
    {
      "cell_type": "code",
      "source": [
        "# 7. Implement a generator function that reads a file line by line and yields each line as a string.\n",
        "def read_file_lines(filename):\n",
        "    with open(filename, \"r\") as file:\n",
        "        for line in file:\n",
        "            yield line.strip()\n",
        "\n",
        "# Create a dummy file for the example\n",
        "with open(\"sample.txt\", \"w\") as f:\n",
        "    f.write(\"This is line 1.\\n\")\n",
        "    f.write(\"This is line 2.\\n\")\n",
        "    f.write(\"This is line 3.\\n\")\n",
        "\n",
        "# Example\n",
        "for line in read_file_lines(\"sample.txt\"):\n",
        "    print(line)"
      ],
      "metadata": {
        "colab": {
          "base_uri": "https://localhost:8080/"
        },
        "id": "JRssjrqgoKnS",
        "outputId": "afca4a1d-20b4-49e4-d815-a43e37c430da"
      },
      "execution_count": 41,
      "outputs": [
        {
          "output_type": "stream",
          "name": "stdout",
          "text": [
            "This is line 1.\n",
            "This is line 2.\n",
            "This is line 3.\n"
          ]
        }
      ]
    },
    {
      "cell_type": "code",
      "source": [
        "# 8. Use a lambda function in Python to sort a list of tuples based on the second element of each tuple.\n",
        "def read_file_lines(filename):\n",
        "    with open(filename, \"r\") as file:\n",
        "        for line in file:\n",
        "            yield line.strip()\n",
        "\n",
        "# Example\n",
        "for line in read_file_lines(\"sample.txt\"):\n",
        "    print(line)\n"
      ],
      "metadata": {
        "colab": {
          "base_uri": "https://localhost:8080/"
        },
        "id": "iUCJDC6rox7C",
        "outputId": "4183dea7-dafb-4623-ffdd-45ae847fcdb8"
      },
      "execution_count": 42,
      "outputs": [
        {
          "output_type": "stream",
          "name": "stdout",
          "text": [
            "This is line 1.\n",
            "This is line 2.\n",
            "This is line 3.\n"
          ]
        }
      ]
    },
    {
      "cell_type": "code",
      "source": [
        "# 9. Write a Python program that uses map() to convert a list of temperatures from Celsius to Fahrenheit.\n",
        "# Celsius to Fahrenheit: (C × 9/5) + 32\n",
        "celsius = [0, 20, 37, 100]\n",
        "\n",
        "fahrenheit = list(map(lambda c: (c * 9/5) + 32, celsius))\n",
        "\n",
        "print(fahrenheit)  # Output: [32.0, 68.0, 98.6, 212.0]\n"
      ],
      "metadata": {
        "colab": {
          "base_uri": "https://localhost:8080/"
        },
        "id": "HpXMBl7_pCbj",
        "outputId": "58431108-ec99-4181-8ac6-4568a19b68d4"
      },
      "execution_count": 43,
      "outputs": [
        {
          "output_type": "stream",
          "name": "stdout",
          "text": [
            "[32.0, 68.0, 98.6, 212.0]\n"
          ]
        }
      ]
    },
    {
      "cell_type": "code",
      "source": [
        "# 10. Create a Python program that uses `filter()` to remove all the vowels from a given string.\n",
        "def remove_vowels(text):\n",
        "    vowels = \"aeiouAEIOU\"\n",
        "    return \"\".join(filter(lambda ch: ch not in vowels, text))\n",
        "\n",
        "# Example\n",
        "print(remove_vowels(\"Hello World\"))  # Output: \"Hll Wrld\"\n"
      ],
      "metadata": {
        "colab": {
          "base_uri": "https://localhost:8080/"
        },
        "id": "4MytH9P0pHNM",
        "outputId": "a5e7b833-6a1c-48ce-e85d-28604f53f1c4"
      },
      "execution_count": 44,
      "outputs": [
        {
          "output_type": "stream",
          "name": "stdout",
          "text": [
            "Hll Wrld\n"
          ]
        }
      ]
    },
    {
      "cell_type": "code",
      "source": [
        "# 11.  Imagine an accounting routine used in a book shop. It works on a list with sublists, which look like this:\n",
        "\n",
        "#Write a Python program, which returns a list with 2-tuples. Each tuple consists of the order number and the\n",
        "#product of the price per item and the quantity. The product should be increased by 10,- € if the value of the\n",
        "#order is smaller than 100,00 €.\n",
        "\n",
        "#Write a Python program using lambda and map.\n",
        "\n",
        "\n",
        "\n",
        "# Data: [Order Number, Book Title and Author, Quantity, Price per Item]\n",
        "orders = [\n",
        "    [34587, \"Learning Python, Mark Lutz\", 4, 40.95],\n",
        "    [98762, \"Programming Python, Mark Lutz\", 5, 56.80],\n",
        "    [77226, \"Head First Python, Paul Barry\", 3, 32.95],\n",
        "    [88112, \"Einführung in Python3, Bernd Klein\", 3, 24.99]\n",
        "]\n",
        "\n",
        "# Process orders using map and lambda\n",
        "result = list(map(lambda order: (\n",
        "    order[0],                                    # Order Number\n",
        "    order[2] * order[3] if order[2] * order[3] >= 100 else order[2] * order[3] + 10\n",
        "), orders))\n",
        "\n",
        "# Output\n",
        "print(result)\n"
      ],
      "metadata": {
        "colab": {
          "base_uri": "https://localhost:8080/"
        },
        "id": "AwC8AFv3pi4k",
        "outputId": "4529e0ea-c898-477b-9f51-79b22d720f9f"
      },
      "execution_count": 47,
      "outputs": [
        {
          "output_type": "stream",
          "name": "stdout",
          "text": [
            "[(34587, 163.8), (98762, 284.0), (77226, 108.85000000000001), (88112, 84.97)]\n"
          ]
        }
      ]
    }
  ]
}